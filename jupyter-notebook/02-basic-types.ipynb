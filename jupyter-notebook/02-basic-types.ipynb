{
 "cells": [
  {
   "cell_type": "markdown",
   "metadata": {},
   "source": [
    "# 02 - Tipos Básicos"
   ]
  },
  {
   "cell_type": "markdown",
   "metadata": {},
   "source": [
    "Neste Notebook, será abordado os tipos básicos da linguagem Elixir. Será apresentado os tipos e suas correspondentes operações aritméticas simples. Também será explorado algumas funções de operação/processamento dos tipos básicos, utilizando as bibliotecas padrões (*built-in*) `Kernel` e `Elixir`.\n",
    "\n",
    "Elixir tem os os seguintes tipos básicos:\n",
    "\n",
    "Tipos             | Valor de Exemplo\n",
    ":---:             | :---:\n",
    "**float**         | `-0.1`, `1.0e-1`\n",
    "**integer**       | `10`, `0xA`, `0o10`, `0b1010`\n",
    "**boolean**       | `true`, `false`, `:true`, `:false`\n",
    "**atom/symbol**   | `:atom`, `:carlos`, `:neto`, `:foo`, `:bar`\n",
    "**string**        | `\"elixir\"`\n",
    "**char**          | `'e'`, `'l'`, `'i'`, `'x'`, `'i'`, `'r'`\n",
    "**list**          | `[1, \"carlos\"]`, `['carlos', :carlos, true]`, `'list-of-chars'`\n",
    "**tuple**         | `{1, 2, 3}`\n",
    "\n",
    "\n",
    "As subseções deste notebook, abordarão primeiramente, os tipos citados."
   ]
  },
  {
   "cell_type": "markdown",
   "metadata": {},
   "source": [
    "## 1. Float"
   ]
  },
  {
   "cell_type": "markdown",
   "metadata": {},
   "source": [
    "**Observação**: Não há representação Binária, Octal e Hexadecimal para números decimais com ponto flutuante"
   ]
  },
  {
   "cell_type": "markdown",
   "metadata": {},
   "source": [
    "* Notação Decimal"
   ]
  },
  {
   "cell_type": "code",
   "execution_count": 312,
   "metadata": {},
   "outputs": [
    {
     "name": "stdout",
     "output_type": "stream",
     "text": [
      "Term\n",
      "  10.1\n",
      "Data type\n",
      "  Float\n",
      "Reference modules\n",
      "  Float\n",
      "Implemented protocols\n",
      "  Ecto.DataType, IEx.Info, Inspect, List.Chars, Poison.Decoder, Poison.Encoder, String.Chars\n"
     ]
    }
   ],
   "source": [
    "i 10.10"
   ]
  },
  {
   "cell_type": "markdown",
   "metadata": {},
   "source": [
    "* Notação Cietifica"
   ]
  },
  {
   "cell_type": "code",
   "execution_count": 313,
   "metadata": {},
   "outputs": [
    {
     "name": "stdout",
     "output_type": "stream",
     "text": [
      "Term\n",
      "  10.0\n",
      "Data type\n",
      "  Float\n",
      "Reference modules\n",
      "  Float\n",
      "Implemented protocols\n",
      "  Ecto.DataType, IEx.Info, Inspect, List.Chars, Poison.Decoder, Poison.Encoder, String.Chars\n"
     ]
    }
   ],
   "source": [
    "i 1.0e1"
   ]
  },
  {
   "cell_type": "code",
   "execution_count": 314,
   "metadata": {},
   "outputs": [
    {
     "name": "stdout",
     "output_type": "stream",
     "text": [
      "Term\n",
      "  0.1\n",
      "Data type\n",
      "  Float\n",
      "Reference modules\n",
      "  Float\n",
      "Implemented protocols\n",
      "  Ecto.DataType, IEx.Info, Inspect, List.Chars, Poison.Decoder, Poison.Encoder, String.Chars\n"
     ]
    }
   ],
   "source": [
    "i 1.0e-1"
   ]
  },
  {
   "cell_type": "code",
   "execution_count": 315,
   "metadata": {},
   "outputs": [
    {
     "ename": "CompileError",
     "evalue": "1",
     "output_type": "error",
     "traceback": [
      "** (CompileError) console:1 \"\\\"i -10.0\\\" looks like a function call but there is a variable named \\\"i\\\".\\nIf you want to perform a function call, use parentheses:\\n\\n    i(-10.0)\\n\\nIf you want to perform an operation on the variable i, use even spaces instead:\\n\\n    i - 10.0\""
     ]
    }
   ],
   "source": [
    "i -1.0e1"
   ]
  },
  {
   "cell_type": "code",
   "execution_count": 315,
   "metadata": {},
   "outputs": [
    {
     "name": "stdout",
     "output_type": "stream",
     "text": [
      "Term\n",
      "  1.0\n",
      "Data type\n",
      "  Float\n",
      "Reference modules\n",
      "  Float\n",
      "Implemented protocols\n",
      "  Ecto.DataType, IEx.Info, Inspect, List.Chars, Poison.Decoder, Poison.Encoder, String.Chars\n"
     ]
    }
   ],
   "source": [
    "i 1.0e0"
   ]
  },
  {
   "cell_type": "markdown",
   "metadata": {},
   "source": [
    "### 1.1. Operações Aritméticas Simples"
   ]
  },
  {
   "cell_type": "code",
   "execution_count": 316,
   "metadata": {},
   "outputs": [
    {
     "data": {
      "text/plain": [
       "0.049999999999998934"
      ]
     },
     "execution_count": 316,
     "metadata": {},
     "output_type": "execute_result"
    }
   ],
   "source": [
    "10.10 - 10.05"
   ]
  },
  {
   "cell_type": "markdown",
   "metadata": {},
   "source": [
    "Se há um operando `float` na expressão, independentemente dos demais, o resultado será um `float`"
   ]
  },
  {
   "cell_type": "code",
   "execution_count": 317,
   "metadata": {},
   "outputs": [
    {
     "data": {
      "text/plain": [
       "22.625"
      ]
     },
     "execution_count": 317,
     "metadata": {},
     "output_type": "execute_result"
    }
   ],
   "source": [
    "10.1 * 10 / 0o10 + 0xA"
   ]
  },
  {
   "cell_type": "markdown",
   "metadata": {},
   "source": [
    "O operador de Divisão `/`, retorna sempre um `float`"
   ]
  },
  {
   "cell_type": "code",
   "execution_count": 318,
   "metadata": {},
   "outputs": [
    {
     "data": {
      "text/plain": [
       "1.0"
      ]
     },
     "execution_count": 318,
     "metadata": {},
     "output_type": "execute_result"
    }
   ],
   "source": [
    "10 / 10"
   ]
  },
  {
   "cell_type": "markdown",
   "metadata": {},
   "source": [
    "É possível fazer operações aritméticas simples com números em qualquer representação númerica"
   ]
  },
  {
   "cell_type": "code",
   "execution_count": 319,
   "metadata": {},
   "outputs": [
    {
     "data": {
      "text/plain": [
       "0.09999999999999964"
      ]
     },
     "execution_count": 319,
     "metadata": {},
     "output_type": "execute_result"
    }
   ],
   "source": [
    "10.10 - 1.0e+1"
   ]
  },
  {
   "cell_type": "markdown",
   "metadata": {},
   "source": [
    "## 2. Integer"
   ]
  },
  {
   "cell_type": "markdown",
   "metadata": {},
   "source": [
    "- Representação Decimal"
   ]
  },
  {
   "cell_type": "code",
   "execution_count": 320,
   "metadata": {
    "scrolled": true
   },
   "outputs": [
    {
     "name": "stdout",
     "output_type": "stream",
     "text": [
      "Term\n",
      "  1\n",
      "Data type\n",
      "  Integer\n",
      "Reference modules\n",
      "  Integer\n",
      "Implemented protocols\n",
      "  Ecto.DataType, IEx.Info, Inspect, List.Chars, Poison.Decoder, Poison.Encoder, String.Chars\n"
     ]
    }
   ],
   "source": [
    "i 1"
   ]
  },
  {
   "cell_type": "markdown",
   "metadata": {},
   "source": [
    "* Representação Hexadecimal"
   ]
  },
  {
   "cell_type": "code",
   "execution_count": 321,
   "metadata": {},
   "outputs": [
    {
     "name": "stdout",
     "output_type": "stream",
     "text": [
      "Term\n",
      "  31\n",
      "Data type\n",
      "  Integer\n",
      "Reference modules\n",
      "  Integer\n",
      "Implemented protocols\n",
      "  Ecto.DataType, IEx.Info, Inspect, List.Chars, Poison.Decoder, Poison.Encoder, String.Chars\n"
     ]
    }
   ],
   "source": [
    "i 0x1F"
   ]
  },
  {
   "cell_type": "markdown",
   "metadata": {},
   "source": [
    "* Representação Octal"
   ]
  },
  {
   "cell_type": "code",
   "execution_count": 322,
   "metadata": {},
   "outputs": [
    {
     "name": "stdout",
     "output_type": "stream",
     "text": [
      "Term\n",
      "  8\n",
      "Data type\n",
      "  Integer\n",
      "Reference modules\n",
      "  Integer\n",
      "Implemented protocols\n",
      "  Ecto.DataType, IEx.Info, Inspect, List.Chars, Poison.Decoder, Poison.Encoder, String.Chars\n"
     ]
    }
   ],
   "source": [
    "i 0o10"
   ]
  },
  {
   "cell_type": "markdown",
   "metadata": {},
   "source": [
    "* Representação Binária"
   ]
  },
  {
   "cell_type": "code",
   "execution_count": 323,
   "metadata": {},
   "outputs": [
    {
     "name": "stdout",
     "output_type": "stream",
     "text": [
      "Term\n",
      "  10\n",
      "Data type\n",
      "  Integer\n",
      "Reference modules\n",
      "  Integer\n",
      "Implemented protocols\n",
      "  Ecto.DataType, IEx.Info, Inspect, List.Chars, Poison.Decoder, Poison.Encoder, String.Chars\n"
     ]
    }
   ],
   "source": [
    "i 0b1010"
   ]
  },
  {
   "cell_type": "markdown",
   "metadata": {},
   "source": [
    "### 2.1. Operações Aritméticas Simples"
   ]
  },
  {
   "cell_type": "markdown",
   "metadata": {},
   "source": [
    "Assim como tipo de representação de dados numéricos `float`, é possível fazer operações aritméticas simples com números em qualquer representação númerica"
   ]
  },
  {
   "cell_type": "code",
   "execution_count": 324,
   "metadata": {},
   "outputs": [
    {
     "data": {
      "text/plain": [
       "40"
      ]
     },
     "execution_count": 324,
     "metadata": {},
     "output_type": "execute_result"
    }
   ],
   "source": [
    "0o12 + 10 + 0xA + 0b1010"
   ]
  },
  {
   "cell_type": "markdown",
   "metadata": {},
   "source": [
    "**Observação**: Atentar-se com a operação feita. Pode ser que a mesma o retorne um valor do tipo `float`, mesmo que os operandos sejam inteiros"
   ]
  },
  {
   "cell_type": "code",
   "execution_count": 325,
   "metadata": {},
   "outputs": [
    {
     "data": {
      "text/plain": [
       "5.0"
      ]
     },
     "execution_count": 325,
     "metadata": {},
     "output_type": "execute_result"
    }
   ],
   "source": [
    "10 / 2"
   ]
  },
  {
   "cell_type": "code",
   "execution_count": 326,
   "metadata": {},
   "outputs": [
    {
     "data": {
      "text/plain": [
       "11.0"
      ]
     },
     "execution_count": 326,
     "metadata": {},
     "output_type": "execute_result"
    }
   ],
   "source": [
    "10 + 1.0"
   ]
  },
  {
   "cell_type": "markdown",
   "metadata": {},
   "source": [
    "## 3. Booleano "
   ]
  },
  {
   "cell_type": "code",
   "execution_count": 327,
   "metadata": {},
   "outputs": [
    {
     "name": "stdout",
     "output_type": "stream",
     "text": [
      "Term\n",
      "  true\n",
      "Data type\n",
      "  Atom\n",
      "Reference modules\n",
      "  Atom\n",
      "Implemented protocols\n",
      "  Ecto.DataType, Ecto.Queryable, IEx.Info, Inspect, List.Chars, Poison.Decoder, Poison.Encoder, String.Chars\n"
     ]
    }
   ],
   "source": [
    "i true"
   ]
  },
  {
   "cell_type": "code",
   "execution_count": 328,
   "metadata": {},
   "outputs": [
    {
     "name": "stdout",
     "output_type": "stream",
     "text": [
      "Term\n",
      "  false\n",
      "Data type\n",
      "  Atom\n",
      "Reference modules\n",
      "  Atom\n",
      "Implemented protocols\n",
      "  Ecto.DataType, Ecto.Queryable, IEx.Info, Inspect, List.Chars, Poison.Decoder, Poison.Encoder, String.Chars\n"
     ]
    }
   ],
   "source": [
    "i false"
   ]
  },
  {
   "cell_type": "code",
   "execution_count": 329,
   "metadata": {},
   "outputs": [
    {
     "name": "stdout",
     "output_type": "stream",
     "text": [
      "Term\n",
      "  true\n",
      "Data type\n",
      "  Atom\n",
      "Reference modules\n",
      "  Atom\n",
      "Implemented protocols\n",
      "  Ecto.DataType, Ecto.Queryable, IEx.Info, Inspect, List.Chars, Poison.Decoder, Poison.Encoder, String.Chars\n"
     ]
    }
   ],
   "source": [
    "i :true"
   ]
  },
  {
   "cell_type": "code",
   "execution_count": 330,
   "metadata": {},
   "outputs": [
    {
     "name": "stdout",
     "output_type": "stream",
     "text": [
      "Term\n",
      "  false\n",
      "Data type\n",
      "  Atom\n",
      "Reference modules\n",
      "  Atom\n",
      "Implemented protocols\n",
      "  Ecto.DataType, Ecto.Queryable, IEx.Info, Inspect, List.Chars, Poison.Decoder, Poison.Encoder, String.Chars\n"
     ]
    }
   ],
   "source": [
    "i :false"
   ]
  },
  {
   "cell_type": "code",
   "execution_count": 331,
   "metadata": {},
   "outputs": [
    {
     "data": {
      "text/plain": [
       "false"
      ]
     },
     "execution_count": 331,
     "metadata": {},
     "output_type": "execute_result"
    }
   ],
   "source": [
    "True == true"
   ]
  },
  {
   "cell_type": "code",
   "execution_count": 332,
   "metadata": {},
   "outputs": [
    {
     "data": {
      "text/plain": [
       "false"
      ]
     },
     "execution_count": 332,
     "metadata": {},
     "output_type": "execute_result"
    }
   ],
   "source": [
    "True === true"
   ]
  },
  {
   "cell_type": "code",
   "execution_count": 333,
   "metadata": {},
   "outputs": [
    {
     "data": {
      "text/plain": [
       "false"
      ]
     },
     "execution_count": 333,
     "metadata": {},
     "output_type": "execute_result"
    }
   ],
   "source": [
    "False == false"
   ]
  },
  {
   "cell_type": "code",
   "execution_count": 334,
   "metadata": {},
   "outputs": [
    {
     "data": {
      "text/plain": [
       "false"
      ]
     },
     "execution_count": 334,
     "metadata": {},
     "output_type": "execute_result"
    }
   ],
   "source": [
    "False === false"
   ]
  },
  {
   "cell_type": "markdown",
   "metadata": {},
   "source": [
    "## 4. Átomos/*Symbols*"
   ]
  },
  {
   "cell_type": "markdown",
   "metadata": {},
   "source": [
    "Átomos são valores constantes, em que o nome dado a declaração, também define o seu valor. Útil em casos de enumeração, e definição de valores constantes"
   ]
  },
  {
   "cell_type": "code",
   "execution_count": 335,
   "metadata": {},
   "outputs": [
    {
     "name": "stdout",
     "output_type": "stream",
     "text": [
      "Term\n",
      "  :atom\n",
      "Data type\n",
      "  Atom\n",
      "Reference modules\n",
      "  Atom\n",
      "Implemented protocols\n",
      "  Ecto.DataType, Ecto.Queryable, IEx.Info, Inspect, List.Chars, Poison.Decoder, Poison.Encoder, String.Chars\n"
     ]
    }
   ],
   "source": [
    "i :atom"
   ]
  },
  {
   "cell_type": "code",
   "execution_count": 336,
   "metadata": {},
   "outputs": [
    {
     "name": "stdout",
     "output_type": "stream",
     "text": [
      "Term\n",
      "  :foo\n",
      "Data type\n",
      "  Atom\n",
      "Reference modules\n",
      "  Atom\n",
      "Implemented protocols\n",
      "  Ecto.DataType, Ecto.Queryable, IEx.Info, Inspect, List.Chars, Poison.Decoder, Poison.Encoder, String.Chars\n"
     ]
    }
   ],
   "source": [
    "i :foo"
   ]
  },
  {
   "cell_type": "code",
   "execution_count": 337,
   "metadata": {},
   "outputs": [
    {
     "name": "stdout",
     "output_type": "stream",
     "text": [
      "Term\n",
      "  :bar\n",
      "Data type\n",
      "  Atom\n",
      "Reference modules\n",
      "  Atom\n",
      "Implemented protocols\n",
      "  Ecto.DataType, Ecto.Queryable, IEx.Info, Inspect, List.Chars, Poison.Decoder, Poison.Encoder, String.Chars\n"
     ]
    }
   ],
   "source": [
    "i :bar"
   ]
  },
  {
   "cell_type": "markdown",
   "metadata": {},
   "source": [
    "Valores com primeira letra maiúscula, é compreendido como um `atom`"
   ]
  },
  {
   "cell_type": "code",
   "execution_count": 338,
   "metadata": {},
   "outputs": [
    {
     "name": "stdout",
     "output_type": "stream",
     "text": [
      "Term\n",
      "  Atom\n",
      "Data type\n",
      "  Atom\n",
      "Module bytecode\n",
      "  /opt/elixir/bin/../lib/elixir/ebin/Elixir.Atom.beam\n",
      "Source\n",
      "  /Users/jose/OSS/elixir/lib/elixir/lib/atom.ex\n",
      "Version\n",
      "  [90914953763975185007137168388757581702]\n",
      "Compile options\n",
      "  [:dialyzer, :no_spawn_compiler_process, :from_core, :no_core_prepare, :no_auto_import]\n",
      "Description\n",
      "  Use h(Atom) to access its documentation.\n",
      "  Call Atom.module_info() to access metadata.\n",
      "Raw representation\n",
      "  :\"Elixir.Atom\"\n",
      "Reference modules\n",
      "  Module, Atom\n",
      "Implemented protocols\n",
      "  Ecto.DataType, Ecto.Queryable, IEx.Info, Inspect, List.Chars, Poison.Decoder, Poison.Encoder, String.Chars\n"
     ]
    }
   ],
   "source": [
    "i Atom"
   ]
  },
  {
   "cell_type": "code",
   "execution_count": 339,
   "metadata": {},
   "outputs": [
    {
     "name": "stdout",
     "output_type": "stream",
     "text": [
      "Term\n",
      "  CarlosNeto\n",
      "Data type\n",
      "  Atom\n",
      "Raw representation\n",
      "  :\"Elixir.CarlosNeto\"\n",
      "Reference modules\n",
      "  Atom\n",
      "Implemented protocols\n",
      "  Ecto.DataType, Ecto.Queryable, IEx.Info, Inspect, List.Chars, Poison.Decoder, Poison.Encoder, String.Chars\n"
     ]
    }
   ],
   "source": [
    "i CarlosNeto"
   ]
  },
  {
   "cell_type": "code",
   "execution_count": 340,
   "metadata": {},
   "outputs": [
    {
     "name": "stdout",
     "output_type": "stream",
     "text": [
      "Term\n",
      "  :\"Carlos Neto Augusto Liks\"\n",
      "Data type\n",
      "  Atom\n",
      "Reference modules\n",
      "  Atom\n",
      "Implemented protocols\n",
      "  Ecto.DataType, Ecto.Queryable, IEx.Info, Inspect, List.Chars, Poison.Decoder, Poison.Encoder, String.Chars\n"
     ]
    }
   ],
   "source": [
    "i :\"Carlos Neto Augusto Liks\""
   ]
  },
  {
   "cell_type": "code",
   "execution_count": 341,
   "metadata": {},
   "outputs": [
    {
     "data": {
      "text/plain": [
       "true"
      ]
     },
     "execution_count": 341,
     "metadata": {},
     "output_type": "execute_result"
    }
   ],
   "source": [
    "is_atom(var_atom_upcase_notation)"
   ]
  },
  {
   "cell_type": "markdown",
   "metadata": {},
   "source": [
    "**Curiosidade**: `boolean` em Elixir, são átomos. O inverso não é verdade, ou seja, `boolean` não é `atom`, excluindo os casos de átomos `:true` e `:false`."
   ]
  },
  {
   "cell_type": "code",
   "execution_count": 342,
   "metadata": {},
   "outputs": [
    {
     "data": {
      "text/plain": [
       "true"
      ]
     },
     "execution_count": 342,
     "metadata": {},
     "output_type": "execute_result"
    }
   ],
   "source": [
    "Kernel.is_atom(false)"
   ]
  },
  {
   "cell_type": "code",
   "execution_count": 343,
   "metadata": {},
   "outputs": [
    {
     "data": {
      "text/plain": [
       "true"
      ]
     },
     "execution_count": 343,
     "metadata": {},
     "output_type": "execute_result"
    }
   ],
   "source": [
    "Kernel.is_atom(true)"
   ]
  },
  {
   "cell_type": "code",
   "execution_count": 344,
   "metadata": {},
   "outputs": [
    {
     "data": {
      "text/plain": [
       "true"
      ]
     },
     "execution_count": 344,
     "metadata": {},
     "output_type": "execute_result"
    }
   ],
   "source": [
    "Kernel.is_boolean(:true)"
   ]
  },
  {
   "cell_type": "code",
   "execution_count": 345,
   "metadata": {},
   "outputs": [
    {
     "data": {
      "text/plain": [
       "true"
      ]
     },
     "execution_count": 345,
     "metadata": {},
     "output_type": "execute_result"
    }
   ],
   "source": [
    "Kernel.is_boolean(:false)"
   ]
  },
  {
   "cell_type": "code",
   "execution_count": 346,
   "metadata": {},
   "outputs": [
    {
     "data": {
      "text/plain": [
       "true"
      ]
     },
     "execution_count": 346,
     "metadata": {},
     "output_type": "execute_result"
    }
   ],
   "source": [
    "Kernel.is_atom(:foo)"
   ]
  },
  {
   "cell_type": "code",
   "execution_count": 347,
   "metadata": {},
   "outputs": [
    {
     "data": {
      "text/plain": [
       "false"
      ]
     },
     "execution_count": 347,
     "metadata": {},
     "output_type": "execute_result"
    }
   ],
   "source": [
    "Kernel.is_boolean(:foo)"
   ]
  },
  {
   "cell_type": "code",
   "execution_count": 348,
   "metadata": {},
   "outputs": [
    {
     "data": {
      "text/plain": [
       "true"
      ]
     },
     "execution_count": 348,
     "metadata": {},
     "output_type": "execute_result"
    }
   ],
   "source": [
    ":true == true"
   ]
  },
  {
   "cell_type": "code",
   "execution_count": 349,
   "metadata": {},
   "outputs": [
    {
     "data": {
      "text/plain": [
       "true"
      ]
     },
     "execution_count": 349,
     "metadata": {},
     "output_type": "execute_result"
    }
   ],
   "source": [
    ":true === true"
   ]
  },
  {
   "cell_type": "markdown",
   "metadata": {},
   "source": [
    "## 5. String"
   ]
  },
  {
   "cell_type": "markdown",
   "metadata": {},
   "source": [
    "`string` em Elixir, são binários representados na codificação UTF-8"
   ]
  },
  {
   "cell_type": "code",
   "execution_count": 350,
   "metadata": {},
   "outputs": [
    {
     "name": "stdout",
     "output_type": "stream",
     "text": [
      "Term\n",
      "  \"carlos neto\"\n",
      "Data type\n",
      "  BitString\n",
      "Byte size\n",
      "  11\n",
      "Description\n",
      "  This is a string: a UTF-8 encoded binary. It's printed surrounded by\n",
      "  \"double quotes\" because all UTF-8 encoded code points in it are printable.\n",
      "Raw representation\n",
      "  <<99, 97, 114, 108, 111, 115, 32, 110, 101, 116, 111>>\n",
      "Reference modules\n",
      "  String, :binary\n",
      "Implemented protocols\n",
      "  Collectable, Ecto.DataType, Ecto.Queryable, IEx.Info, Inspect, List.Chars, Poison.Decoder, Poison.Encoder, String.Chars\n"
     ]
    }
   ],
   "source": [
    "i \"carlos neto\""
   ]
  },
  {
   "cell_type": "code",
   "execution_count": 351,
   "metadata": {},
   "outputs": [
    {
     "name": "stdout",
     "output_type": "stream",
     "text": [
      "Term\n",
      "  \"this is a string with \\\"double quotes\\\"\"\n",
      "Data type\n",
      "  BitString\n",
      "Byte size\n",
      "  37\n",
      "Description\n",
      "  This is a string: a UTF-8 encoded binary. It's printed surrounded by\n",
      "  \"double quotes\" because all UTF-8 encoded code points in it are printable.\n",
      "Raw representation\n",
      "  <<116, 104, 105, 115, 32, 105, 115, 32, 97, 32, 115, 116, 114, 105, 110, 103, 32, 119, 105, 116, 104, 32, 34, 100, 111, 117, 98, 108, 101, 32, 113, 117, 111, 116, 101, 115, 34>>\n",
      "Reference modules\n",
      "  String, :binary\n",
      "Implemented protocols\n",
      "  Collectable, Ecto.DataType, Ecto.Queryable, IEx.Info, Inspect, List.Chars, Poison.Decoder, Poison.Encoder, String.Chars\n"
     ]
    }
   ],
   "source": [
    "i \"this is a string with \\\"double quotes\\\"\""
   ]
  },
  {
   "cell_type": "markdown",
   "metadata": {},
   "source": [
    "* Concatenação"
   ]
  },
  {
   "cell_type": "code",
   "execution_count": 352,
   "metadata": {},
   "outputs": [
    {
     "data": {
      "text/plain": [
       "\"carlos neto AS augusto liks\""
      ]
     },
     "execution_count": 352,
     "metadata": {},
     "output_type": "execute_result"
    }
   ],
   "source": [
    "\"carlos \" <> \"neto \"  <> \"AS \" <> \"augusto \" <> \"liks\""
   ]
  },
  {
   "cell_type": "markdown",
   "metadata": {},
   "source": [
    "* Interpolação"
   ]
  },
  {
   "cell_type": "code",
   "execution_count": 353,
   "metadata": {},
   "outputs": [
    {
     "data": {
      "text/plain": [
       "\"neto\""
      ]
     },
     "execution_count": 353,
     "metadata": {},
     "output_type": "execute_result"
    }
   ],
   "source": [
    "last_name = \"neto\""
   ]
  },
  {
   "cell_type": "code",
   "execution_count": 354,
   "metadata": {},
   "outputs": [
    {
     "data": {
      "text/plain": [
       "\"carlos neto\""
      ]
     },
     "execution_count": 354,
     "metadata": {},
     "output_type": "execute_result"
    }
   ],
   "source": [
    "\"carlos #{last_name}\""
   ]
  },
  {
   "cell_type": "markdown",
   "metadata": {},
   "source": [
    "Qualquer expressão Elixir válida, dentro de um interpolação, será aceita. Isso é possível, pois ao declarar uma interpolação, implicitamente é feito uma chamada para a função `Elixir.String.Chars.to_string`, do qual faz a avaliação/*evaluation* da expressão em questão"
   ]
  },
  {
   "cell_type": "code",
   "execution_count": 355,
   "metadata": {},
   "outputs": [
    {
     "data": {
      "text/plain": [
       "\"20 = 20\""
      ]
     },
     "execution_count": 355,
     "metadata": {},
     "output_type": "execute_result"
    }
   ],
   "source": [
    "\"#{10 + 10} = 20\""
   ]
  },
  {
   "cell_type": "code",
   "execution_count": 356,
   "metadata": {},
   "outputs": [
    {
     "data": {
      "text/plain": [
       "\"20 = 20\""
      ]
     },
     "execution_count": 356,
     "metadata": {},
     "output_type": "execute_result"
    }
   ],
   "source": [
    "\"#{10 + 10} = #{15 + 5}\""
   ]
  },
  {
   "cell_type": "markdown",
   "metadata": {},
   "source": [
    "* Caracteres Especiais (*Backslash*)"
   ]
  },
  {
   "cell_type": "markdown",
   "metadata": {},
   "source": [
    "Caracter Especial    | Descrição\n",
    ":---:                |:---:\n",
    "`\\a`                 | Bell\n",
    "`\\b`                 | Backspace\n",
    "`\\t`                 | Horizontal tab\n",
    "`\\n`                 | Line feed (New lines)\n",
    "`\\v`                 | Vertical tab\n",
    "`\\f`                 | Form feed\n",
    "`\\r`                 | Carriage return\n",
    "`\\e`                 | Command Escape\n",
    "`\\#`                 | Returns the # character itself, skipping interpolation\n",
    "`\\xNN`               | A byte represented by the hexadecimal NN\n",
    "`\\uNNNN`             | A Unicode code point represented by NNNN\n"
   ]
  },
  {
   "cell_type": "code",
   "execution_count": 357,
   "metadata": {},
   "outputs": [
    {
     "data": {
      "text/plain": [
       "\"\\t - atom: foo \\n \\t - integer: 10\""
      ]
     },
     "execution_count": 357,
     "metadata": {},
     "output_type": "execute_result"
    }
   ],
   "source": [
    "string_with_backslash = \"\\t - atom: #{:foo} \\n \\t - integer: #{10}\""
   ]
  },
  {
   "cell_type": "code",
   "execution_count": 358,
   "metadata": {},
   "outputs": [
    {
     "name": "stdout",
     "output_type": "stream",
     "text": [
      "\t - atom: foo \n",
      " \t - integer: 10\n"
     ]
    },
    {
     "data": {
      "text/plain": [
       ":ok"
      ]
     },
     "execution_count": 358,
     "metadata": {},
     "output_type": "execute_result"
    }
   ],
   "source": [
    "IO.puts(string_with_backslash)"
   ]
  },
  {
   "cell_type": "markdown",
   "metadata": {},
   "source": [
    "## 6. Tuple"
   ]
  },
  {
   "cell_type": "markdown",
   "metadata": {},
   "source": [
    "Lista elementos armazenados em memória de maneira contígua, com valor de alocação de memória pré-definida.\n",
    "\n",
    "As tuplas em Elixir, se assemelham as Tuplas em Python, dada a diferença que as Tuplas em Elixir, implementam protocolos de inserção e remoção de itens."
   ]
  },
  {
   "cell_type": "markdown",
   "metadata": {},
   "source": [
    "Tuple.append/2\n",
    "Tuple.delete_at/2\n",
    "Tuple.duplicate/2\n",
    "Tuple.insert_at/3\n",
    "Tuple.to_list/1"
   ]
  },
  {
   "cell_type": "markdown",
   "metadata": {},
   "source": [
    "Pelo fato das Tuplas em Elixir, armazenar os elementos de forma contígua em memória, cada chamada dos métodos acima, faz a criação de uma nova Tupla, com alocação de memória pré-definido."
   ]
  },
  {
   "cell_type": "code",
   "execution_count": 359,
   "metadata": {
    "scrolled": true
   },
   "outputs": [
    {
     "name": "stdout",
     "output_type": "stream",
     "text": [
      "Term\n",
      "  {0, 1, \"2\", :three, 4.0, Five, \"six\", 'seven', {:eight}}\n",
      "Data type\n",
      "  Tuple\n",
      "Reference modules\n",
      "  Tuple\n",
      "Implemented protocols\n",
      "  Ecto.DataType, Ecto.Queryable, IEx.Info, Inspect, Poison.Decoder, Poison.Encoder\n"
     ]
    }
   ],
   "source": [
    "i {0o000, 1, \"2\", :three, 4.0, Five, \"six\", 'seven', {:eight}}"
   ]
  },
  {
   "cell_type": "code",
   "execution_count": 360,
   "metadata": {},
   "outputs": [
    {
     "data": {
      "text/plain": [
       "0"
      ]
     },
     "execution_count": 360,
     "metadata": {},
     "output_type": "execute_result"
    }
   ],
   "source": [
    "Kernel.elem(var_tuple, 0)"
   ]
  },
  {
   "cell_type": "code",
   "execution_count": 361,
   "metadata": {},
   "outputs": [
    {
     "data": {
      "text/plain": [
       "1"
      ]
     },
     "execution_count": 361,
     "metadata": {},
     "output_type": "execute_result"
    }
   ],
   "source": [
    "Kernel.elem(var_tuple, 1)"
   ]
  },
  {
   "cell_type": "code",
   "execution_count": 362,
   "metadata": {},
   "outputs": [
    {
     "data": {
      "text/plain": [
       "\"2\""
      ]
     },
     "execution_count": 362,
     "metadata": {},
     "output_type": "execute_result"
    }
   ],
   "source": [
    "Kernel.elem(var_tuple, 2)"
   ]
  },
  {
   "cell_type": "code",
   "execution_count": 363,
   "metadata": {},
   "outputs": [
    {
     "data": {
      "text/plain": [
       "9"
      ]
     },
     "execution_count": 363,
     "metadata": {},
     "output_type": "execute_result"
    }
   ],
   "source": [
    "Kernel.tuple_size(var_tuple)"
   ]
  },
  {
   "cell_type": "code",
   "execution_count": 364,
   "metadata": {},
   "outputs": [
    {
     "data": {
      "text/plain": [
       "{0, 1, \"intrusive three\", :three, 4.0, Five, \"six\", 'seven', {:eight}}"
      ]
     },
     "execution_count": 364,
     "metadata": {},
     "output_type": "execute_result"
    }
   ],
   "source": [
    "Kernel.put_elem(var_tuple, 2, \"intrusive #{:three}\")"
   ]
  },
  {
   "cell_type": "code",
   "execution_count": 365,
   "metadata": {},
   "outputs": [
    {
     "data": {
      "text/plain": [
       "{0, 1, \"2\", :three, 4.0, Five, \"six\", 'seven', {:eight}}"
      ]
     },
     "execution_count": 365,
     "metadata": {},
     "output_type": "execute_result"
    }
   ],
   "source": [
    "var_tuple"
   ]
  },
  {
   "cell_type": "code",
   "execution_count": 366,
   "metadata": {},
   "outputs": [
    {
     "data": {
      "text/plain": [
       "9"
      ]
     },
     "execution_count": 366,
     "metadata": {},
     "output_type": "execute_result"
    }
   ],
   "source": [
    "Kernel.tuple_size(var_tuple)"
   ]
  },
  {
   "cell_type": "code",
   "execution_count": 367,
   "metadata": {},
   "outputs": [
    {
     "data": {
      "text/plain": [
       "{0, 1, \"2\", :three, 4.0, Five, \"six\", 'seven', {:eight}, 9}"
      ]
     },
     "execution_count": 367,
     "metadata": {},
     "output_type": "execute_result"
    }
   ],
   "source": [
    "Tuple.append(var_tuple, 9)"
   ]
  },
  {
   "cell_type": "markdown",
   "metadata": {},
   "source": [
    "## 7. Listas "
   ]
  },
  {
   "cell_type": "markdown",
   "metadata": {},
   "source": [
    "Lista em Elixir, são listas encadeadas, em que cada elemento armazema a referência do elemento posterior. Possuem as seguintes características:\n",
    "\n",
    "- Suportam adição/remoção de elementos;\n",
    "- O uso de memória é dimensionado de acordo com o tamanho da lista. Quanto mais elementos a lista possui, mais memória ela requer;\n",
    "- Buscar elementos às vezes pode ser \"lento\"."
   ]
  },
  {
   "cell_type": "code",
   "execution_count": 368,
   "metadata": {},
   "outputs": [
    {
     "name": "stdout",
     "output_type": "stream",
     "text": [
      "Term\n",
      "  [1, 2, 3, \"carlos\", true, false]\n",
      "Data type\n",
      "  List\n",
      "Reference modules\n",
      "  List\n",
      "Implemented protocols\n",
      "  Collectable, Ecto.DataType, Enumerable, IEx.Info, Inspect, List.Chars, Poison.Decoder, Poison.Encoder, String.Chars\n"
     ]
    }
   ],
   "source": [
    "i var_list = [1, 2, 3, \"carlos\", true, false]"
   ]
  },
  {
   "cell_type": "code",
   "execution_count": 369,
   "metadata": {},
   "outputs": [
    {
     "name": "stdout",
     "output_type": "stream",
     "text": [
      "Term\n",
      "  1\n",
      "Data type\n",
      "  Integer\n",
      "Reference modules\n",
      "  Integer\n",
      "Implemented protocols\n",
      "  Ecto.DataType, IEx.Info, Inspect, List.Chars, Poison.Decoder, Poison.Encoder, String.Chars\n"
     ]
    }
   ],
   "source": [
    "i hd(var_list)"
   ]
  },
  {
   "cell_type": "code",
   "execution_count": 370,
   "metadata": {},
   "outputs": [
    {
     "name": "stdout",
     "output_type": "stream",
     "text": [
      "Term\n",
      "  [2, 3, \"carlos\", true, false]\n",
      "Data type\n",
      "  List\n",
      "Reference modules\n",
      "  List\n",
      "Implemented protocols\n",
      "  Collectable, Ecto.DataType, Enumerable, IEx.Info, Inspect, List.Chars, Poison.Decoder, Poison.Encoder, String.Chars\n"
     ]
    }
   ],
   "source": [
    "i tl(var_list)"
   ]
  },
  {
   "cell_type": "code",
   "execution_count": 371,
   "metadata": {},
   "outputs": [
    {
     "name": "stdout",
     "output_type": "stream",
     "text": [
      "Term\n",
      "  'carlos'\n",
      "Data type\n",
      "  List\n",
      "Description\n",
      "  This is a list of integers that is printed as a sequence of characters\n",
      "  delimited by single quotes because all the integers in it represent printable\n",
      "  ASCII characters. Conventionally, a list of Unicode code points is known as a\n",
      "  charlist and a list of ASCII characters is a subset of it.\n",
      "Raw representation\n",
      "  [99, 97, 114, 108, 111, 115]\n",
      "Reference modules\n",
      "  List\n",
      "Implemented protocols\n",
      "  Collectable, Ecto.DataType, Enumerable, IEx.Info, Inspect, List.Chars, Poison.Decoder, Poison.Encoder, String.Chars\n"
     ]
    }
   ],
   "source": [
    "i 'carlos'"
   ]
  },
  {
   "cell_type": "markdown",
   "metadata": {},
   "source": [
    "### 7.1. Operações Aritméticas Simples"
   ]
  },
  {
   "cell_type": "code",
   "execution_count": 372,
   "metadata": {},
   "outputs": [
    {
     "data": {
      "text/plain": [
       "[1.0, 2]"
      ]
     },
     "execution_count": 372,
     "metadata": {},
     "output_type": "execute_result"
    }
   ],
   "source": [
    "[1, 1.0, 2, true] -- [1, :true]"
   ]
  },
  {
   "cell_type": "code",
   "execution_count": 373,
   "metadata": {},
   "outputs": [
    {
     "data": {
      "text/plain": [
       "[1, 2]"
      ]
     },
     "execution_count": 373,
     "metadata": {},
     "output_type": "execute_result"
    }
   ],
   "source": [
    "[1, 1, 2, true] -- [1, :true]"
   ]
  },
  {
   "cell_type": "code",
   "execution_count": 374,
   "metadata": {},
   "outputs": [
    {
     "data": {
      "text/plain": [
       "[1, 2]"
      ]
     },
     "execution_count": 374,
     "metadata": {},
     "output_type": "execute_result"
    }
   ],
   "source": [
    "[1] ++ [2]"
   ]
  }
 ],
 "metadata": {
  "kernelspec": {
   "display_name": "Elixir",
   "language": "Elixir",
   "name": "ielixir"
  },
  "language_info": {
   "codemirror_mode": "elixir",
   "file_extension": "ex",
   "mimetype": "text/x-elixir",
   "name": "elixir",
   "nbconvert_exporter": "",
   "pygments_lexer": "elixir",
   "version": "1.11.2"
  }
 },
 "nbformat": 4,
 "nbformat_minor": 2
}
